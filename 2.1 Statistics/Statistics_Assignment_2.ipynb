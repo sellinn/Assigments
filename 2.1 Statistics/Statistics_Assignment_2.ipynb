{
 "cells": [
  {
   "cell_type": "markdown",
   "metadata": {
    "id": "K7S4cEyZLTp7"
   },
   "source": [
    "## Descriptive Statistics"
   ]
  },
  {
   "cell_type": "markdown",
   "metadata": {
    "id": "vZRYVyc8H7hi"
   },
   "source": [
    " Import **NumPy**, **SciPy**, and **Pandas**"
   ]
  },
  {
   "cell_type": "code",
   "execution_count": 4,
   "metadata": {
    "id": "7ShN0klrHIk3"
   },
   "outputs": [],
   "source": [
    "import numpy as np\n",
    "import pandas as pd\n",
    "from scipy import stats\n",
    "import matplotlib.pyplot as plt"
   ]
  },
  {
   "cell_type": "markdown",
   "metadata": {
    "id": "_SaQURIqIA6d"
   },
   "source": [
    " Randomly generate 1,000 samples from the normal distribution using `np.random.normal()`(mean = 100, standard deviation = 15)"
   ]
  },
  {
   "cell_type": "code",
   "execution_count": 24,
   "metadata": {
    "colab": {
     "base_uri": "https://localhost:8080/"
    },
    "id": "Jyw_FMX0IRkm",
    "outputId": "7111905a-94c2-4f8c-db8b-25d7446a0d48"
   },
   "outputs": [
    {
     "data": {
      "text/plain": [
       "array([ 90.13401082,  86.68414829,  89.58229569, 123.07441417,\n",
       "       106.63955025, 103.76446207,  91.43334786, 116.12116895,\n",
       "       108.4295099 , 120.21027104, 109.06453686,  97.8709664 ,\n",
       "       114.03470086,  84.86665443,  99.10185873,  77.07535339,\n",
       "       111.04320124,  77.66610649, 108.84080672, 113.03660972,\n",
       "        92.55438562,  78.5260721 ,  92.29306168,  86.02601712,\n",
       "       106.35886586, 107.83042254, 102.85211204,  89.45991404,\n",
       "        84.56829529, 100.31195848,  80.52079351, 104.87757442,\n",
       "       113.45457888, 116.09678089, 104.17008023, 101.57624303,\n",
       "       115.61672689,  95.22485826, 100.49058638,  83.24357766,\n",
       "       100.31944937,  97.26703706,  86.48221051, 111.43213813,\n",
       "        94.54309851,  99.99008223,  83.58359846, 104.12922133,\n",
       "       104.24703569,  89.58638133,  79.81698007, 103.53050885,\n",
       "       103.41043747, 108.47135373,  94.17022775,  92.07623223,\n",
       "        81.83351888, 124.68428419,  75.56422162, 115.35965987,\n",
       "       104.40964231, 103.63578741,  98.23322871, 118.91054193,\n",
       "        97.25172132, 110.20167392, 111.49929044, 108.3333716 ,\n",
       "       133.95713303, 102.99564879, 125.03611448, 114.76920302,\n",
       "        97.65072715, 109.44079916, 104.36450113,  93.95277677,\n",
       "       107.08273343,  99.30501161, 118.17217406, 108.57327326,\n",
       "       101.35816363, 105.44286351,  89.84881204, 105.5433953 ,\n",
       "        91.81321108,  83.24645129, 132.49555699,  99.48161056,\n",
       "       108.92153488, 115.35820064,  94.63760572, 104.28172949,\n",
       "        93.32516678,  94.64038658, 119.45643497, 112.6046364 ,\n",
       "        64.16268207,  58.15937555,  93.21436305, 104.44336045,\n",
       "        78.76607735, 100.47527597, 106.91656275,  94.91407231,\n",
       "        97.7129605 ,  99.78438294,  90.02678531, 101.19070674,\n",
       "        72.90440664,  95.35332359,  97.03702718,  75.54831199,\n",
       "        73.84715565, 102.30109396,  76.50469537, 101.77828237,\n",
       "       119.28746096,  88.10277382, 144.52337378, 120.93534175,\n",
       "        95.13163176, 110.16378891,  97.24493135, 114.74982984,\n",
       "       105.77810884, 100.70371559,  77.16085225, 100.18106983,\n",
       "        86.5078436 ,  90.46867472, 124.61021247, 129.304076  ,\n",
       "       105.55075768, 104.23166883,  83.68458882,  82.51570241,\n",
       "        71.74296692, 113.51931627, 111.01308612, 100.67674881,\n",
       "        92.34652302, 124.81714086,  94.1639277 , 106.28353387,\n",
       "        99.62308105, 120.66696708, 113.97204378,  98.38193488,\n",
       "       124.78518556,  95.11531231,  99.08101484, 110.10273056,\n",
       "       106.59136302,  89.53412584,  98.63448351,  89.44232074,\n",
       "        98.45207312,  93.76719839, 100.77228959, 103.10535652,\n",
       "        90.61974808, 101.66828849,  96.81277179, 114.05401839,\n",
       "       110.93825738,  89.84298947,  77.15963825,  89.16524954,\n",
       "        96.54842785, 110.35827438,  90.69611727, 120.7917589 ,\n",
       "       112.80382655,  89.91416362,  92.22597191, 101.96282617,\n",
       "        95.37521755,  58.96261585,  94.70181323,  81.09393512,\n",
       "       102.16956392, 103.25768605, 113.66505137, 104.11841887,\n",
       "        94.67829428, 100.33731484, 112.43139664, 101.80079443,\n",
       "       103.3158796 , 107.85226735, 107.94432555,  74.42422972,\n",
       "        86.60189728, 109.20442833,  77.42230291, 106.4844266 ,\n",
       "       111.37871548,  99.0196626 ,  91.9721794 ,  89.31134187,\n",
       "        91.5209608 ,  95.17611878, 112.20700424,  97.30059393,\n",
       "       118.5896101 , 112.89710956,  70.54046586, 117.18820633,\n",
       "        97.00417723,  81.53537001, 127.57968187, 123.65265617,\n",
       "        86.51633327,  77.93076339,  98.65744737,  93.3264485 ,\n",
       "        97.14054326,  90.77868826, 109.65489505,  95.1691197 ,\n",
       "        88.75137248,  84.8467058 ,  97.27211341, 110.55461015,\n",
       "        91.826978  ,  95.78906635, 107.52466932,  89.7532982 ,\n",
       "       102.30635101, 105.79683719,  93.10569611,  63.3000217 ,\n",
       "       101.80464294, 102.90658629,  98.38916986, 109.65008802,\n",
       "        97.41888243, 129.85764106, 112.76060503,  96.09293334,\n",
       "        85.20121243, 108.47577753,  99.23535524, 120.61604003,\n",
       "        44.81650858,  93.72269467,  92.75639858, 104.26907858,\n",
       "        88.43273576,  82.99186435,  74.44676326,  86.76078917,\n",
       "        82.87499759,  67.38482948,  93.34706167,  88.13112822,\n",
       "       115.44093505,  88.79704973, 113.80599454,  74.48061425,\n",
       "       100.19384045, 102.73369794, 103.84465315,  79.48552703,\n",
       "        89.96461444,  88.62264649, 132.56658952,  81.33024079,\n",
       "       129.36232012, 116.50770098, 106.68815412,  87.71910014,\n",
       "       113.568502  ,  72.82233395,  72.67370358, 101.89154501,\n",
       "       101.34427592,  97.04999625, 108.32881282, 106.18574863,\n",
       "       106.84302678,  99.42979267,  74.63433337, 111.31677564,\n",
       "        89.58462862, 115.09798728,  99.81701305, 102.586893  ,\n",
       "        86.60841318,  84.78267332,  87.04942289,  94.82985866,\n",
       "        96.90680334,  89.27154847, 109.0807804 , 133.59415546,\n",
       "        82.97999818, 115.69224624, 100.58615237, 122.31959488,\n",
       "       114.61428471,  98.10195955, 119.82289598,  62.75045375,\n",
       "       103.0157921 ,  88.07947941,  97.69327884, 119.91222   ,\n",
       "       113.48901806,  85.62599371,  69.43503616, 108.93923121,\n",
       "       101.27849356, 103.404863  ,  92.05424492, 107.48683887,\n",
       "        99.2258936 ,  99.71422192,  76.35497969,  95.45668147,\n",
       "       101.23903671, 122.55495659,  76.18934358, 100.88853887,\n",
       "       117.18385887, 103.14613939,  84.85240363, 101.99204211,\n",
       "        97.88259842, 118.96056968, 106.35107528, 108.92588452,\n",
       "       100.75011804,  85.76406828,  94.09973819,  99.26349714,\n",
       "        92.5837543 , 106.84799193,  97.05861848,  93.39774303,\n",
       "       101.24742368, 101.09727189, 109.21835517, 112.38039915,\n",
       "       107.21574   , 105.80729599,  97.9850829 ,  95.64355033,\n",
       "       107.51429635, 115.05034343, 105.51801887, 106.90677894,\n",
       "       112.25768647, 103.75931482,  79.75294591, 102.18079126,\n",
       "        74.33475716, 117.75525739,  94.27739972,  91.32094342,\n",
       "        92.6259952 , 129.21131312, 122.4850714 , 119.00173824,\n",
       "       118.14754378, 103.22231544, 108.25141964, 113.4463353 ,\n",
       "       111.12626665, 113.64183631, 121.71305968,  96.7816512 ,\n",
       "        83.56531983, 105.71762607, 102.59912846, 110.82220151,\n",
       "       101.88457736, 106.33980438,  93.88304631, 105.74589063,\n",
       "       104.60208799, 133.73319939, 114.38571188, 111.78303303,\n",
       "        98.50474805, 116.09122221, 121.03117782, 105.33395866,\n",
       "       123.03380188,  81.59676873, 123.78616118,  94.67235286,\n",
       "       110.39739486,  91.94988422,  76.37157722, 101.96539214,\n",
       "       112.60846726,  85.9283088 , 110.38633515,  67.72024174,\n",
       "        93.46000042, 109.15284641, 111.49499729,  75.63370314,\n",
       "        85.42319688, 127.03966049, 118.02032862, 108.82852157,\n",
       "       101.95907494, 108.84728154,  93.09936189, 114.77539587,\n",
       "       111.23529275, 107.93432572,  93.34942031, 109.92707076,\n",
       "        93.37566137,  84.79249976, 108.79809158,  95.08758658,\n",
       "        94.67709828,  93.50706404, 105.51461928, 100.04254501,\n",
       "       111.14089352,  78.62447845, 109.30652783,  88.73362652,\n",
       "       100.7425436 , 115.54178932,  96.93236859, 111.6504824 ,\n",
       "       125.39202387, 118.00843675,  78.98949875, 113.73863548,\n",
       "       102.33277052, 102.09997043,  79.02005626, 113.46794391,\n",
       "       119.73527819, 114.48156409,  98.9272049 , 123.96231373,\n",
       "        92.55128677, 106.02924054, 116.35005623, 103.2398285 ,\n",
       "       102.24524163, 105.95708142, 105.74984648, 122.68980643,\n",
       "        97.67233924, 105.57584752, 105.56939565, 113.72568998,\n",
       "       102.48559618, 117.27602279, 102.31341767,  85.9850772 ,\n",
       "        94.68651573,  91.93958685,  85.56523868, 109.88489562,\n",
       "       134.09834815,  92.61799133,  89.0222826 , 103.61569169,\n",
       "        90.36830346, 116.11184296, 125.13421028, 119.24719933,\n",
       "       122.76555133,  84.390062  ,  76.76765585, 104.38310042,\n",
       "       127.81385781,  88.1676527 ,  74.39135325, 104.64590287,\n",
       "        93.29922798,  99.12959902, 107.35114192, 109.35868151,\n",
       "       111.10809524,  80.11148448,  83.46912097,  75.62808931,\n",
       "       108.82979892,  96.77762883,  68.11661397,  98.22991379,\n",
       "        90.94083326,  97.58903805, 125.36698928,  89.72982314,\n",
       "       130.431201  , 122.28829385, 111.24323376, 124.86498326,\n",
       "        85.21732225,  92.56879166,  93.18680215,  96.62769494,\n",
       "       107.22370291, 108.95341777,  96.51752574,  95.06244145,\n",
       "       100.91754105, 103.41702443, 107.34096622, 130.33614154,\n",
       "        96.76846822,  93.34207791,  90.63622568, 108.6019359 ,\n",
       "        96.06344804, 115.51870072, 101.54329043,  79.79237712,\n",
       "       107.8591176 ,  98.59742696,  95.99969835,  83.31059471,\n",
       "        88.99917128, 103.91294976,  86.98006439,  96.29157738,\n",
       "        97.99626033,  69.05460688,  97.75290924, 113.58750228,\n",
       "        97.27074852,  70.09998104,  92.95094585,  80.84141115,\n",
       "       117.26541074, 101.08870565, 102.13523294, 105.31404618,\n",
       "       121.58466365, 112.32347194,  69.68025233,  84.12806724,\n",
       "        90.4005621 ,  96.20575339, 119.20985031,  81.65946535,\n",
       "        87.9484251 ,  85.61098426, 109.89857637,  94.19155145,\n",
       "        87.67555417, 122.17782982,  82.18875902, 119.1597395 ,\n",
       "        66.537541  , 102.20034591, 101.2378144 , 100.48819363,\n",
       "        83.31897613,  94.47774305, 130.39897115, 106.10738304,\n",
       "       126.659399  , 120.68194128,  79.99575933,  99.14232397,\n",
       "       105.66722713,  88.07942097,  86.54777194,  90.08546162,\n",
       "        78.9748736 , 115.42667207, 105.32305428, 111.51572705,\n",
       "        94.09558675,  98.42921946, 125.7640357 ,  89.40781683,\n",
       "        88.53960046,  95.48387077,  99.87781234, 101.9920227 ,\n",
       "        85.73421715,  95.77874556,  67.46132624, 106.68742508,\n",
       "       125.55082559, 116.69947593,  83.15412939, 101.04047414,\n",
       "       128.23524881, 105.09947139,  68.89760196, 111.41704422,\n",
       "        80.42149578,  92.0704848 , 112.84697734,  95.55601679,\n",
       "       108.21180652,  87.04323544,  93.50193108, 106.07642505,\n",
       "       102.12534212, 112.71432825,  67.64415167, 104.33595624,\n",
       "        99.12222125, 110.36438428, 132.51356157,  96.29164544,\n",
       "       102.95516522,  87.79454275, 124.742764  ,  81.93675553,\n",
       "       109.36833007, 105.47435409, 116.57502645,  92.45617748,\n",
       "        90.93323033, 111.98431006,  98.07291033, 106.12297788,\n",
       "        78.79141952,  92.21358535, 108.34949792, 109.3499872 ,\n",
       "       111.45305472, 100.64805849, 104.89381098,  97.15141005,\n",
       "       119.78826579, 115.64265108, 115.67439997, 115.87099388,\n",
       "        99.56429148,  87.68062392, 107.13955238,  97.02575177,\n",
       "       113.93213712,  90.8908967 , 107.30146924,  72.95504276,\n",
       "        93.14842691, 100.86144062,  87.07613961, 101.78058544,\n",
       "       112.5686208 , 102.53953355, 125.10537954,  97.23721026,\n",
       "       112.41233515, 121.74166136,  99.34254053, 112.9486611 ,\n",
       "       100.46212372, 121.63557886, 132.54761512, 117.9374728 ,\n",
       "       104.89150167,  83.2646384 , 100.65033518, 102.52625298,\n",
       "        93.02242961, 103.42432557,  82.59588208,  71.05656923,\n",
       "       114.41654675, 119.58186485,  78.94892892,  99.75394217,\n",
       "       102.58519805, 109.93829577,  92.67674962, 121.41629255,\n",
       "       115.91979642,  99.25664166,  92.20354063,  85.76312606,\n",
       "        89.69235358, 120.56847588, 109.17638021,  98.18121982,\n",
       "       110.74428117, 129.28046209, 115.8587452 , 118.83255709,\n",
       "       123.03173081,  78.88482408,  94.3752908 , 108.06424647,\n",
       "        75.08891227, 103.1694936 ,  87.25057966,  70.36936529,\n",
       "       132.34039044,  78.73415451,  75.75310021, 119.76648338,\n",
       "       115.01205309, 108.68469412,  87.10948098,  99.56708685,\n",
       "       105.00230559,  84.33184178,  83.09391392, 102.75014534,\n",
       "        89.91746694, 105.75465813,  92.75114049, 107.5096116 ,\n",
       "        88.67306039, 103.41771845, 129.64159886, 117.93477874,\n",
       "        86.51051335, 104.89503079,  76.41377883,  99.94168042,\n",
       "        93.08558055,  98.82094962,  89.90932587, 109.29850706,\n",
       "        98.73421795,  75.72711644, 107.12030617, 109.90771047,\n",
       "       147.53229241,  79.80638783, 123.18579021,  76.72166614,\n",
       "        94.49060182, 105.86313955, 105.42862537, 104.19669038,\n",
       "        86.66326452, 103.66608805, 110.76180855,  92.20581626,\n",
       "        83.17302889, 105.68858283,  92.88832832, 105.53538647,\n",
       "       102.94892927,  96.22530096,  68.80701863, 108.01891427,\n",
       "       102.80478831, 122.13457853, 105.50561273, 118.80255583,\n",
       "        81.67808152,  85.75803218,  93.97999577,  99.93431955,\n",
       "       102.22624498, 100.88538122, 102.99830524, 101.65000233,\n",
       "       106.85530695,  88.78513091,  99.71715822, 123.36020798,\n",
       "       103.24167087, 104.2232437 ,  96.38328684,  95.85066868,\n",
       "       108.1805841 ,  84.62620376,  92.7536947 , 116.1973124 ,\n",
       "       105.48476072, 122.97758562, 113.91970125, 115.01409628,\n",
       "        82.63159705,  80.62447773, 114.88739026,  89.5238655 ,\n",
       "       113.24929042,  61.26813627, 121.51976163, 102.19335382,\n",
       "       115.63516147,  72.57415976, 116.0771803 , 110.62635197,\n",
       "        84.96914036,  95.51502895, 103.49276667, 127.68787773,\n",
       "        82.78217848, 114.49276573, 118.93551633, 102.26446454,\n",
       "       102.15824979, 101.25151223,  92.26175829,  89.46511592,\n",
       "        98.37298521,  86.24456692, 111.47685856,  99.10059629,\n",
       "       127.32191934, 112.55472379,  75.7704624 , 104.52096379,\n",
       "        84.78618853, 110.12615336,  76.67422227, 107.20928729,\n",
       "        71.05997115, 109.84505805,  76.6251908 ,  94.76589219,\n",
       "       125.48601257,  94.88088748,  92.37148652, 107.5463451 ,\n",
       "        99.61630778, 110.30692723,  90.20126045, 111.12249934,\n",
       "       145.96152958,  94.94050536,  77.70456736,  97.90913328,\n",
       "       111.54837976,  99.96807744,  93.72896426, 126.52031541,\n",
       "       116.32362085,  84.61508715, 120.29836842, 107.43762098,\n",
       "       120.34522053, 129.04825518,  83.95504875, 103.05120819,\n",
       "        90.07031099,  96.49431933,  83.97055764, 110.46206859,\n",
       "       124.86500511,  94.90506193, 107.15087393, 114.41776112,\n",
       "        83.41300861, 117.89070583, 133.88525022, 121.0285341 ,\n",
       "       115.08531225,  82.1271159 ,  97.00976846,  95.69163909,\n",
       "       126.38793811,  77.5092181 ,  79.28773234,  87.72272795,\n",
       "        85.25657121,  99.22852355,  98.31384599, 107.15609602,\n",
       "        99.28168676, 116.44856886, 108.78747692, 107.25065998,\n",
       "       108.50905175,  88.4438204 , 106.68848196,  97.22211591,\n",
       "        96.41894623, 113.91845646,  86.70567572,  91.61857836,\n",
       "        88.30685929, 118.06417005, 114.04683856, 111.2076931 ,\n",
       "       100.66090171, 110.36349245,  96.57030549,  99.13232264,\n",
       "       102.43106467, 110.61029838, 105.50042391,  85.89069429,\n",
       "        97.83514225, 102.33137331,  70.03319174,  79.00568966,\n",
       "       120.19057155, 101.53300509, 121.22119828, 114.96273437,\n",
       "        93.4453322 ,  83.48997757,  95.88127397, 115.66426969,\n",
       "       107.43062004,  91.95836557, 105.8997569 ,  94.59537974,\n",
       "       132.56754918,  99.63837172,  99.69148541,  94.83368398,\n",
       "       129.61014783,  88.07578829,  79.98121159,  73.36680337,\n",
       "       104.84953635,  93.32102703,  75.73900951,  88.8156269 ,\n",
       "        69.76364213, 104.06629752, 108.63424727, 115.96883472,\n",
       "        83.77143261,  99.85066284,  64.07450557,  88.22546491,\n",
       "       104.07593011, 152.40398837,  96.60221707,  71.36837762,\n",
       "        83.02789224, 113.40215982,  88.64978503, 112.89924204,\n",
       "        77.43556341, 111.43327051,  74.05187579, 114.44589318,\n",
       "        81.98653079, 133.214278  , 112.74443447,  96.10774629,\n",
       "       100.77001942,  94.27557119, 114.74917986, 101.36491326,\n",
       "        96.97719172,  55.32617754,  86.46610372, 132.31563475,\n",
       "        81.66721348, 121.24546526, 118.16632046,  87.75543873,\n",
       "        73.56269883, 113.69581547,  73.70756392, 115.78102671,\n",
       "       110.12231477,  84.93112643, 119.1779165 ,  99.57037008,\n",
       "        87.78540662, 113.15794369,  87.33406603,  95.6241467 ,\n",
       "       117.37514094, 113.56238867,  81.47378415, 119.6088558 ,\n",
       "       122.72576242, 115.36511115,  93.13066393,  66.75888255,\n",
       "        92.9453098 , 102.6038237 , 101.4959979 ,  95.91135346,\n",
       "        67.71309308, 108.38561485,  86.80513471, 103.74781271,\n",
       "       105.37449421,  92.42623581, 100.41610415,  82.29456347,\n",
       "        68.94439265,  95.62932239,  71.1405541 , 109.26094234,\n",
       "       106.34488949,  98.29793195,  84.01051826, 114.66555157,\n",
       "        99.21652085,  71.5162467 , 125.33053844,  88.78779439,\n",
       "       105.19686277,  96.95319499,  91.05865644,  75.00676135])"
      ]
     },
     "execution_count": 24,
     "metadata": {},
     "output_type": "execute_result"
    }
   ],
   "source": [
    "samples = np.random.normal(100,15,1000) # other way np.random.randn(1000)*15+100\n",
    "samples"
   ]
  },
  {
   "cell_type": "markdown",
   "metadata": {
    "id": "CDF8m3a4IYOC"
   },
   "source": [
    "Compute the **mean**, **median**, and **mode**"
   ]
  },
  {
   "cell_type": "code",
   "execution_count": 6,
   "metadata": {
    "colab": {
     "base_uri": "https://localhost:8080/",
     "height": 134
    },
    "id": "ZKbeqxaKIoNs",
    "outputId": "92bd62c0-cc23-4ed3-a644-fbcf82cdac82"
   },
   "outputs": [
    {
     "name": "stdout",
     "output_type": "stream",
     "text": [
      "mean: 99.98791042481238 ,\n",
      "median: 100.04522632662662 ,\n",
      "mode ModeResult(mode=array([50.71218923]), count=array([1]))\n"
     ]
    }
   ],
   "source": [
    "mean = np.mean(samples)\n",
    "median =np.median(samples)\n",
    "mode = stats.mode(samples)\n",
    "print(\"mean:\", mean,\",\\nmedian:\", median, \",\\nmode\", mode)"
   ]
  },
  {
   "cell_type": "markdown",
   "metadata": {
    "id": "skT8m39XI60w"
   },
   "source": [
    "Compute the **min**, **max**, **Q1**, **Q3**, and **interquartile range**"
   ]
  },
  {
   "cell_type": "code",
   "execution_count": 7,
   "metadata": {
    "id": "VaiDphm8It0O"
   },
   "outputs": [
    {
     "name": "stdout",
     "output_type": "stream",
     "text": [
      "min: 50.71218922846619 , \n",
      "max: 146.62017467599384 , \n",
      "q1: 90.37776747226522 , \n",
      "q3: 109.97314543001289 , \n",
      "iqr: 19.595377957747672\n"
     ]
    }
   ],
   "source": [
    "min = samples.min()\n",
    "max = samples.max()\n",
    "q1 = np.percentile(samples, 25)\n",
    "q3 = np.percentile(samples, 75)\n",
    "iqr = q3 - q1\n",
    "print(\"min:\", min,\", \\nmax:\", max,\",\",\"\\nq1:\", q1,\", \\nq3:\",q3,\", \\niqr:\",iqr)"
   ]
  },
  {
   "cell_type": "markdown",
   "metadata": {
    "id": "m53Dv3n5JHQi"
   },
   "source": [
    "Compute the **variance** and **standard deviation**"
   ]
  },
  {
   "cell_type": "code",
   "execution_count": 8,
   "metadata": {
    "id": "6JFaAYdrJbeN"
   },
   "outputs": [
    {
     "name": "stdout",
     "output_type": "stream",
     "text": [
      "std:  14.689929688303158 \n",
      "\n",
      "variance:  215.7940342472905\n"
     ]
    }
   ],
   "source": [
    "variance = np.var(samples)\n",
    "std_dev =  np.std(samples)\n",
    "\n",
    "print(\"std: \", std_dev, \"\\n\\nvariance: \", variance)"
   ]
  },
  {
   "cell_type": "markdown",
   "metadata": {
    "id": "5eup4hI1JzqX"
   },
   "source": [
    "Compute the **skewness** and **kurtosis**"
   ]
  },
  {
   "cell_type": "code",
   "execution_count": 9,
   "metadata": {
    "id": "YO3obyDnJ3_D"
   },
   "outputs": [
    {
     "name": "stdout",
     "output_type": "stream",
     "text": [
      "skewness:  -0.08430011201152857 ,\n",
      "\n",
      "kurtosis:  0.1616524415293954\n"
     ]
    }
   ],
   "source": [
    "skewness = stats.skew(samples)\n",
    "kurtosis = stats.kurtosis(samples)\n",
    "print(\"skewness: \", skewness, \",\\n\\nkurtosis: \", kurtosis)"
   ]
  },
  {
   "cell_type": "markdown",
   "metadata": {
    "id": "a5UNc8PUKnbU"
   },
   "source": [
    "## NumPy Correlation Calculation"
   ]
  },
  {
   "cell_type": "markdown",
   "metadata": {
    "id": "cLiqxE1CMNTg"
   },
   "source": [
    "Create an array x of integers between 10 (inclusive) and 20 (exclusive). Use `np.arange()`"
   ]
  },
  {
   "cell_type": "code",
   "execution_count": 10,
   "metadata": {
    "id": "5LAaQ6w5L-2L"
   },
   "outputs": [
    {
     "data": {
      "text/plain": [
       "array([10, 11, 12, 13, 14, 15, 16, 17, 18, 19])"
      ]
     },
     "execution_count": 10,
     "metadata": {},
     "output_type": "execute_result"
    }
   ],
   "source": [
    "x = np.arange(10,20)\n",
    "x"
   ]
  },
  {
   "cell_type": "markdown",
   "metadata": {
    "id": "qyCIaukNMZPf"
   },
   "source": [
    "Then use `np.array()` to create a second array y containing 10 arbitrary integers."
   ]
  },
  {
   "cell_type": "code",
   "execution_count": 26,
   "metadata": {
    "id": "p27eW__gNMdh"
   },
   "outputs": [
    {
     "data": {
      "text/plain": [
       "array([12,  6,  2, 94, 88, 28,  5, 28, 52, 21])"
      ]
     },
     "execution_count": 26,
     "metadata": {},
     "output_type": "execute_result"
    }
   ],
   "source": [
    "y =  np.random.randint(1,100,10)\n",
    "y"
   ]
  },
  {
   "cell_type": "markdown",
   "metadata": {
    "id": "Kh_VeKwINSqS"
   },
   "source": [
    "Once you have two arrays of the same length, you can compute the **correlation coefficient** between x and y"
   ]
  },
  {
   "cell_type": "code",
   "execution_count": 12,
   "metadata": {
    "id": "yrtC6rPkNSDC"
   },
   "outputs": [
    {
     "data": {
      "text/plain": [
       "array([[ 1.        , -0.24767742],\n",
       "       [-0.24767742,  1.        ]])"
      ]
     },
     "execution_count": 12,
     "metadata": {},
     "output_type": "execute_result"
    }
   ],
   "source": [
    "r = np.corrcoef(x, y)\n",
    "r"
   ]
  },
  {
   "cell_type": "markdown",
   "metadata": {
    "id": "vXieLjYiNtPi"
   },
   "source": [
    "## Pandas Correlation Calculation"
   ]
  },
  {
   "cell_type": "markdown",
   "metadata": {
    "id": "z56t0k0qNvkr"
   },
   "source": [
    "Run the code below"
   ]
  },
  {
   "cell_type": "code",
   "execution_count": 13,
   "metadata": {},
   "outputs": [
    {
     "data": {
      "text/html": [
       "<div>\n",
       "<style scoped>\n",
       "    .dataframe tbody tr th:only-of-type {\n",
       "        vertical-align: middle;\n",
       "    }\n",
       "\n",
       "    .dataframe tbody tr th {\n",
       "        vertical-align: top;\n",
       "    }\n",
       "\n",
       "    .dataframe thead th {\n",
       "        text-align: right;\n",
       "    }\n",
       "</style>\n",
       "<table border=\"1\" class=\"dataframe\">\n",
       "  <thead>\n",
       "    <tr style=\"text-align: right;\">\n",
       "      <th></th>\n",
       "      <th>x</th>\n",
       "      <th>y</th>\n",
       "    </tr>\n",
       "  </thead>\n",
       "  <tbody>\n",
       "    <tr>\n",
       "      <th>0</th>\n",
       "      <td>10</td>\n",
       "      <td>2</td>\n",
       "    </tr>\n",
       "    <tr>\n",
       "      <th>1</th>\n",
       "      <td>11</td>\n",
       "      <td>1</td>\n",
       "    </tr>\n",
       "    <tr>\n",
       "      <th>2</th>\n",
       "      <td>12</td>\n",
       "      <td>4</td>\n",
       "    </tr>\n",
       "    <tr>\n",
       "      <th>3</th>\n",
       "      <td>13</td>\n",
       "      <td>5</td>\n",
       "    </tr>\n",
       "    <tr>\n",
       "      <th>4</th>\n",
       "      <td>14</td>\n",
       "      <td>8</td>\n",
       "    </tr>\n",
       "    <tr>\n",
       "      <th>5</th>\n",
       "      <td>15</td>\n",
       "      <td>12</td>\n",
       "    </tr>\n",
       "    <tr>\n",
       "      <th>6</th>\n",
       "      <td>16</td>\n",
       "      <td>18</td>\n",
       "    </tr>\n",
       "    <tr>\n",
       "      <th>7</th>\n",
       "      <td>17</td>\n",
       "      <td>25</td>\n",
       "    </tr>\n",
       "    <tr>\n",
       "      <th>8</th>\n",
       "      <td>18</td>\n",
       "      <td>96</td>\n",
       "    </tr>\n",
       "    <tr>\n",
       "      <th>9</th>\n",
       "      <td>19</td>\n",
       "      <td>48</td>\n",
       "    </tr>\n",
       "  </tbody>\n",
       "</table>\n",
       "</div>"
      ],
      "text/plain": [
       "    x   y\n",
       "0  10   2\n",
       "1  11   1\n",
       "2  12   4\n",
       "3  13   5\n",
       "4  14   8\n",
       "5  15  12\n",
       "6  16  18\n",
       "7  17  25\n",
       "8  18  96\n",
       "9  19  48"
      ]
     },
     "execution_count": 13,
     "metadata": {},
     "output_type": "execute_result"
    }
   ],
   "source": [
    "x = pd.Series(range(10, 20))\n",
    "y = pd.Series([2, 1, 4, 5, 8, 12, 18, 25, 96, 48])\n",
    "df = pd.DataFrame(list(zip(x, y)), columns=['x', 'y'])\n",
    "df"
   ]
  },
  {
   "cell_type": "markdown",
   "metadata": {
    "id": "ZajVXYe2OCih"
   },
   "source": [
    "Call the relevant method  to calculate Pearson's r correlation."
   ]
  },
  {
   "cell_type": "code",
   "execution_count": 14,
   "metadata": {
    "id": "Ak_rkzbLOafj"
   },
   "outputs": [
    {
     "data": {
      "text/plain": [
       "(0.758640289091187, 0.010964341301680813)"
      ]
     },
     "execution_count": 14,
     "metadata": {},
     "output_type": "execute_result"
    }
   ],
   "source": [
    "r = stats.pearsonr(x,y)\n",
    "r"
   ]
  },
  {
   "cell_type": "code",
   "execution_count": 15,
   "metadata": {},
   "outputs": [
    {
     "data": {
      "text/plain": [
       "0.7586402890911867"
      ]
     },
     "execution_count": 15,
     "metadata": {},
     "output_type": "execute_result"
    }
   ],
   "source": [
    "r1 = x.corr(y)\n",
    "r1"
   ]
  },
  {
   "cell_type": "markdown",
   "metadata": {
    "id": "1CygSbnROb9V"
   },
   "source": [
    "OPTIONAL. Call the relevant method to calculate Spearman's rho correlation."
   ]
  },
  {
   "cell_type": "code",
   "execution_count": 16,
   "metadata": {},
   "outputs": [
    {
     "name": "stdout",
     "output_type": "stream",
     "text": [
      "Spearmans correlation coefficient: 0.975758\n"
     ]
    }
   ],
   "source": [
    "rho, p = stats.spearmanr(x, y)\n",
    "print('Spearmans correlation coefficient: %.6f' % rho)"
   ]
  },
  {
   "cell_type": "markdown",
   "metadata": {
    "id": "we7pg7kdOo7y"
   },
   "source": [
    "## Seaborn Dataset Tips"
   ]
  },
  {
   "cell_type": "markdown",
   "metadata": {
    "id": "VlzgFKN7OvqX"
   },
   "source": [
    "Import Seaborn Library"
   ]
  },
  {
   "cell_type": "code",
   "execution_count": 17,
   "metadata": {
    "id": "t-49JRRqO4pw"
   },
   "outputs": [],
   "source": [
    "import seaborn as sns"
   ]
  },
  {
   "cell_type": "markdown",
   "metadata": {
    "id": "0INVBB4tO4y4"
   },
   "source": [
    "Load \"tips\" dataset from Seaborn"
   ]
  },
  {
   "cell_type": "code",
   "execution_count": 18,
   "metadata": {
    "id": "kieLvcM1PBv7"
   },
   "outputs": [],
   "source": [
    "tips = sns.load_dataset(\"tips\")"
   ]
  },
  {
   "cell_type": "markdown",
   "metadata": {
    "id": "o2ISqVQrPh5S"
   },
   "source": [
    "Generate descriptive statistics include those that summarize the central tendency, dispersion"
   ]
  },
  {
   "cell_type": "code",
   "execution_count": 28,
   "metadata": {
    "id": "FyFvmdbJPVg6"
   },
   "outputs": [
    {
     "data": {
      "text/html": [
       "<div>\n",
       "<style scoped>\n",
       "    .dataframe tbody tr th:only-of-type {\n",
       "        vertical-align: middle;\n",
       "    }\n",
       "\n",
       "    .dataframe tbody tr th {\n",
       "        vertical-align: top;\n",
       "    }\n",
       "\n",
       "    .dataframe thead th {\n",
       "        text-align: right;\n",
       "    }\n",
       "</style>\n",
       "<table border=\"1\" class=\"dataframe\">\n",
       "  <thead>\n",
       "    <tr style=\"text-align: right;\">\n",
       "      <th></th>\n",
       "      <th>count</th>\n",
       "      <th>mean</th>\n",
       "      <th>std</th>\n",
       "      <th>min</th>\n",
       "      <th>25%</th>\n",
       "      <th>50%</th>\n",
       "      <th>75%</th>\n",
       "      <th>max</th>\n",
       "    </tr>\n",
       "  </thead>\n",
       "  <tbody>\n",
       "    <tr>\n",
       "      <th>total_bill</th>\n",
       "      <td>244.0</td>\n",
       "      <td>19.785943</td>\n",
       "      <td>8.902412</td>\n",
       "      <td>3.07</td>\n",
       "      <td>13.3475</td>\n",
       "      <td>17.795</td>\n",
       "      <td>24.1275</td>\n",
       "      <td>50.81</td>\n",
       "    </tr>\n",
       "    <tr>\n",
       "      <th>tip</th>\n",
       "      <td>244.0</td>\n",
       "      <td>2.998279</td>\n",
       "      <td>1.383638</td>\n",
       "      <td>1.00</td>\n",
       "      <td>2.0000</td>\n",
       "      <td>2.900</td>\n",
       "      <td>3.5625</td>\n",
       "      <td>10.00</td>\n",
       "    </tr>\n",
       "    <tr>\n",
       "      <th>size</th>\n",
       "      <td>244.0</td>\n",
       "      <td>2.569672</td>\n",
       "      <td>0.951100</td>\n",
       "      <td>1.00</td>\n",
       "      <td>2.0000</td>\n",
       "      <td>2.000</td>\n",
       "      <td>3.0000</td>\n",
       "      <td>6.00</td>\n",
       "    </tr>\n",
       "  </tbody>\n",
       "</table>\n",
       "</div>"
      ],
      "text/plain": [
       "            count       mean       std   min      25%     50%      75%    max\n",
       "total_bill  244.0  19.785943  8.902412  3.07  13.3475  17.795  24.1275  50.81\n",
       "tip         244.0   2.998279  1.383638  1.00   2.0000   2.900   3.5625  10.00\n",
       "size        244.0   2.569672  0.951100  1.00   2.0000   2.000   3.0000   6.00"
      ]
     },
     "execution_count": 28,
     "metadata": {},
     "output_type": "execute_result"
    }
   ],
   "source": [
    "tips.describe().T"
   ]
  },
  {
   "cell_type": "markdown",
   "metadata": {
    "id": "3yCRK4VJPzRo"
   },
   "source": [
    "Call the relevant method to calculate pairwise Pearson's r correlation of columns"
   ]
  },
  {
   "cell_type": "code",
   "execution_count": 20,
   "metadata": {},
   "outputs": [
    {
     "data": {
      "text/html": [
       "<div>\n",
       "<style scoped>\n",
       "    .dataframe tbody tr th:only-of-type {\n",
       "        vertical-align: middle;\n",
       "    }\n",
       "\n",
       "    .dataframe tbody tr th {\n",
       "        vertical-align: top;\n",
       "    }\n",
       "\n",
       "    .dataframe thead th {\n",
       "        text-align: right;\n",
       "    }\n",
       "</style>\n",
       "<table border=\"1\" class=\"dataframe\">\n",
       "  <thead>\n",
       "    <tr style=\"text-align: right;\">\n",
       "      <th></th>\n",
       "      <th>total_bill</th>\n",
       "      <th>tip</th>\n",
       "      <th>size</th>\n",
       "    </tr>\n",
       "  </thead>\n",
       "  <tbody>\n",
       "    <tr>\n",
       "      <th>total_bill</th>\n",
       "      <td>1.000000</td>\n",
       "      <td>0.675734</td>\n",
       "      <td>0.598315</td>\n",
       "    </tr>\n",
       "    <tr>\n",
       "      <th>tip</th>\n",
       "      <td>0.675734</td>\n",
       "      <td>1.000000</td>\n",
       "      <td>0.489299</td>\n",
       "    </tr>\n",
       "    <tr>\n",
       "      <th>size</th>\n",
       "      <td>0.598315</td>\n",
       "      <td>0.489299</td>\n",
       "      <td>1.000000</td>\n",
       "    </tr>\n",
       "  </tbody>\n",
       "</table>\n",
       "</div>"
      ],
      "text/plain": [
       "            total_bill       tip      size\n",
       "total_bill    1.000000  0.675734  0.598315\n",
       "tip           0.675734  1.000000  0.489299\n",
       "size          0.598315  0.489299  1.000000"
      ]
     },
     "execution_count": 20,
     "metadata": {},
     "output_type": "execute_result"
    }
   ],
   "source": [
    "tips.corr()"
   ]
  },
  {
   "cell_type": "code",
   "execution_count": 29,
   "metadata": {
    "id": "qwvGzDU8PGnM",
    "scrolled": true
   },
   "outputs": [
    {
     "data": {
      "image/png": "[encoded data removed]",
      "text/plain": [
       "<Figure size 432x432 with 12 Axes>"
      ]
     },
     "metadata": {
      "needs_background": "light"
     },
     "output_type": "display_data"
    }
   ],
   "source": [
    "sns.pairplot(tips, height = 2)\n",
    "plt.show();"
   ]
  },
  {
   "cell_type": "code",
   "execution_count": 30,
   "metadata": {},
   "outputs": [
    {
     "data": {
      "text/plain": [
       "(5.0, 0.0)"
      ]
     },
     "execution_count": 30,
     "metadata": {},
     "output_type": "execute_result"
    },
    {
     "data": {
      "image/png": "[encoded data removed]",
      "text/plain": [
       "<Figure size 360x360 with 2 Axes>"
      ]
     },
     "metadata": {
      "needs_background": "light"
     },
     "output_type": "display_data"
    }
   ],
   "source": [
    "plt.figure(figsize=(5,5))\n",
    "sns.heatmap(tips.corr(),annot=True, cmap='YlGnBu')\n",
    "plt.ylim(5, 0)  "
   ]
  },
  {
   "cell_type": "code",
   "execution_count": null,
   "metadata": {},
   "outputs": [],
   "source": []
  },
  {
   "cell_type": "code",
   "execution_count": null,
   "metadata": {},
   "outputs": [],
   "source": []
  },
  {
   "cell_type": "code",
   "execution_count": null,
   "metadata": {},
   "outputs": [],
   "source": []
  },
  {
   "cell_type": "code",
   "execution_count": null,
   "metadata": {},
   "outputs": [],
   "source": []
  }
 ],
 "metadata": {
  "colab": {
   "collapsed_sections": [],
   "name": "Statistics Assignment-2.ipynb adlı not defterinin kopyası",
   "provenance": []
  },
  "kernelspec": {
   "display_name": "Python 3",
   "language": "python",
   "name": "python3"
  },
  "language_info": {
   "codemirror_mode": {
    "name": "ipython",
    "version": 3
   },
   "file_extension": ".py",
   "mimetype": "text/x-python",
   "name": "python",
   "nbconvert_exporter": "python",
   "pygments_lexer": "ipython3",
   "version": "3.8.8"
  }
 },
 "nbformat": 4,
 "nbformat_minor": 1
}
